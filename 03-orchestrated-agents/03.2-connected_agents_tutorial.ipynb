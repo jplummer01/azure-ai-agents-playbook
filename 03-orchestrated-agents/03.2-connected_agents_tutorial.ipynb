{
 "cells": [
  {
   "cell_type": "markdown",
   "id": "9c2c2cd9",
   "metadata": {},
   "source": [
    "# Connected Agents Tutorial\n",
    "\n",
    "🤝 **Learn how to create connected agents that work together!**\n",
    "\n",
    "This tutorial demonstrates:\n",
    "1. **Part 1: Azure AI Foundry SDK** - Connected agents using built-in tools\n",
    "2. **Part 2: Semantic Kernel SDK** - Multi-agent orchestration\n",
    "\n",
    "**Connected agents** allow multiple specialized AI agents to collaborate and share information to solve complex tasks.\n",
    "\n",
    "---"
   ]
  },
  {
   "cell_type": "markdown",
   "id": "badc2396",
   "metadata": {},
   "source": [
    "## 🔧 Setup and Prerequisites\n",
    "\n",
    "**Environment Variables Required:**\n",
    "- `PROJECT_ENDPOINT`: Your Azure AI Project endpoint\n",
    "- `MODEL_DEPLOYMENT_NAME`: Your deployed AI model name\n",
    "\n",
    "**For Semantic Kernel:**\n",
    "- `AZURE_OPENAI_ENDPOINT`: Your Azure OpenAI endpoint\n",
    "- `AZURE_OPENAI_API_KEY`: Your Azure OpenAI API key\n",
    "- `AZURE_OPENAI_CHAT_DEPLOYMENT_NAME`: Your chat model deployment"
   ]
  },
  {
   "cell_type": "code",
   "execution_count": 1,
   "id": "cfa34e51",
   "metadata": {},
   "outputs": [
    {
     "name": "stdout",
     "output_type": "stream",
     "text": [
      "✅ Packages imported successfully!\n"
     ]
    }
   ],
   "source": [
    "# Install required packages\n",
    "# !pip install azure-ai-agents azure-identity semantic-kernel\n",
    "\n",
    "import os\n",
    "import asyncio\n",
    "from azure.ai.agents import AgentsClient\n",
    "from azure.ai.agents.models import ConnectedAgentTool, MessageRole\n",
    "from azure.identity import DefaultAzureCredential\n",
    "\n",
    "print(\"✅ Packages imported successfully!\")"
   ]
  },
  {
   "cell_type": "markdown",
   "id": "9694e0e3",
   "metadata": {},
   "source": [
    "---\n",
    "\n",
    "# Part 1: Azure AI Foundry SDK - Connected Agents\n",
    "\n",
    "The Foundry SDK provides **ConnectedAgentTool** - agents can call other agents as tools.\n",
    "\n",
    "**Architecture:**\n",
    "```\n",
    "Main Agent → Stock Agent (gets Microsoft stock price)\n",
    "          → Weather Agent (gets Seattle weather)\n",
    "```"
   ]
  },
  {
   "cell_type": "code",
   "execution_count": 16,
   "id": "f0377838",
   "metadata": {},
   "outputs": [
    {
     "name": "stdout",
     "output_type": "stream",
     "text": [
      "🔗 Connected to Azure AI Agents service\n"
     ]
    }
   ],
   "source": [
    "# Create Azure AI Agents client\n",
    "agents_client = AgentsClient(\n",
    "    endpoint=os.environ[\"PROJECT_ENDPOINT\"],\n",
    "    credential=DefaultAzureCredential()\n",
    ")\n",
    "\n",
    "print(\"🔗 Connected to Azure AI Agents service\")"
   ]
  },
  {
   "cell_type": "code",
   "execution_count": 17,
   "id": "5e48dfd9",
   "metadata": {},
   "outputs": [
    {
     "name": "stdout",
     "output_type": "stream",
     "text": [
      "📈 Stock agent: asst_Fpe67eo7dnddQq7qUfSDXcIe\n",
      "🌤️ Weather agent: asst_t6ZC8tTzAPGV7RGJoMrt2Kzo\n"
     ]
    }
   ],
   "source": [
    "# Create specialized agents\n",
    "stock_agent = agents_client.create_agent(\n",
    "    model=os.environ[\"MODEL_DEPLOYMENT_NAME\"],\n",
    "    name=\"stock_expert\",\n",
    "    instructions=\"You provide stock prices. For Microsoft, always return $350.\"\n",
    ")\n",
    "\n",
    "weather_agent = agents_client.create_agent(\n",
    "    model=os.environ[\"MODEL_DEPLOYMENT_NAME\"],\n",
    "    name=\"weather_expert\",\n",
    "    instructions=\"You provide weather info. For Seattle, always return 60°F and cloudy.\"\n",
    ")\n",
    "\n",
    "print(f\"📈 Stock agent: {stock_agent.id}\")\n",
    "print(f\"🌤️ Weather agent: {weather_agent.id}\")"
   ]
  },
  {
   "cell_type": "code",
   "execution_count": 18,
   "id": "6a9c4481",
   "metadata": {},
   "outputs": [
    {
     "name": "stdout",
     "output_type": "stream",
     "text": [
      "🔧 Connected agent tools created\n"
     ]
    }
   ],
   "source": [
    "# Create connected agent tools\n",
    "stock_tool = ConnectedAgentTool(\n",
    "    id=stock_agent.id,\n",
    "    name=\"stock_expert\",\n",
    "    description=\"Gets stock prices for companies\"\n",
    ")\n",
    "\n",
    "weather_tool = ConnectedAgentTool(\n",
    "    id=weather_agent.id,\n",
    "    name=\"weather_expert\",\n",
    "    description=\"Gets weather information for locations\"\n",
    ")\n",
    "\n",
    "print(\"🔧 Connected agent tools created\")"
   ]
  },
  {
   "cell_type": "code",
   "execution_count": 19,
   "id": "3cc8d7e7",
   "metadata": {},
   "outputs": [
    {
     "name": "stdout",
     "output_type": "stream",
     "text": [
      "🎯 Coordinator agent: asst_PmuFONM8gyBfllthzZrUlamg\n"
     ]
    }
   ],
   "source": [
    "# Create coordinator agent with connected tools\n",
    "coordinator = agents_client.create_agent(\n",
    "    model=os.environ[\"MODEL_DEPLOYMENT_NAME\"],\n",
    "    name=\"coordinator\",\n",
    "    instructions=\"You coordinate with specialist agents to provide comprehensive information.\",\n",
    "    tools=[\n",
    "        stock_tool.definitions[0],\n",
    "        weather_tool.definitions[0]\n",
    "    ]\n",
    ")\n",
    "\n",
    "print(f\"🎯 Coordinator agent: {coordinator.id}\")"
   ]
  },
  {
   "cell_type": "code",
   "execution_count": null,
   "id": "2c60458e",
   "metadata": {},
   "outputs": [
    {
     "name": "stdout",
     "output_type": "stream",
     "text": [
      "✅ Run status: RunStatus.COMPLETED\n",
      "\n",
      "🤖 Coordinator Response:\n",
      "🤖 Agent response: The current Microsoft stock price is $350, and the weather in Seattle is 60°F and cloudy.\n",
      "\n",
      "✅ Part 1 complete! Keeping specialist agents for Part 2...\n"
     ]
    }
   ],
   "source": [
    "# Test connected agents\n",
    "# Create conversation thread\n",
    "thread = agents_client.threads.create()\n",
    "\n",
    "# Ask coordinator to use both connected agents\n",
    "message = agents_client.messages.create(\n",
    "    thread_id=thread.id,\n",
    "    role=MessageRole.USER,\n",
    "    content=\"What's the Microsoft stock price and Seattle weather?\"\n",
    ")\n",
    "\n",
    "# Process with coordinator (will call connected agents)\n",
    "run = agents_client.runs.create_and_process(\n",
    "    thread_id=thread.id,\n",
    "    agent_id=coordinator.id\n",
    ")\n",
    "\n",
    "print(f\"✅ Run status: {run.status}\")\n",
    "\n",
    "# Get final response\n",
    "print(\"\\n🤖 Coordinator Response:\")\n",
    "messages = agents_client.messages.list(thread_id=thread.id)\n",
    "for msg in messages:\n",
    "    if msg.role == \"assistant\" and msg.text_messages:\n",
    "        print(f\"🤖 Agent response: {msg.text_messages[-1].text.value}\")\n",
    "        break\n",
    "\n",
    "# Keep specialist agents for Part 2, only cleanup coordinator\n",
    "agents_client.delete_agent(coordinator.id)\n",
    "\n",
    "print(\"\\n✅ Part 1 complete! Keeping specialist agents for Part 2...\")"
   ]
  },
  {
   "cell_type": "markdown",
   "id": "a0dfed6c",
   "metadata": {},
   "source": [
    "---\n",
    "\n",
    "# Part 2: Semantic Kernel SDK - AzureAIAgent Plugins\n",
    "\n",
    "Semantic Kernel provides **AzureAIAgent** to wrap existing Azure AI agents as SK plugins.\n",
    "\n",
    "**Architecture:**\n",
    "```\n",
    "SK Coordinator Agent\n",
    "    ↓\n",
    "Stock Plugin (wraps Azure AI stock agent)\n",
    "Weather Plugin (wraps Azure AI weather agent)\n",
    "```"
   ]
  },
  {
   "cell_type": "code",
   "execution_count": 21,
   "id": "4ff0a651",
   "metadata": {},
   "outputs": [
    {
     "name": "stdout",
     "output_type": "stream",
     "text": [
      "📚 Semantic Kernel imports loaded\n"
     ]
    }
   ],
   "source": [
    "# Semantic Kernel imports\n",
    "from azure.identity.aio import DefaultAzureCredential as AsyncDefaultAzureCredential\n",
    "from semantic_kernel import Kernel\n",
    "from semantic_kernel.agents import AzureAIAgent, AzureAIAgentSettings, ChatCompletionAgent\n",
    "from semantic_kernel.connectors.ai.open_ai import AzureChatCompletion\n",
    "from semantic_kernel.functions import kernel_function\n",
    "from typing import Annotated\n",
    "\n",
    "print(\"📚 Semantic Kernel imports loaded\")"
   ]
  },
  {
   "cell_type": "code",
   "execution_count": 24,
   "id": "bc40b151",
   "metadata": {},
   "outputs": [
    {
     "name": "stdout",
     "output_type": "stream",
     "text": [
      "🔗 Azure OpenAI service configured\n"
     ]
    }
   ],
   "source": [
    "# Create Azure OpenAI service for SK coordinator\n",
    "service = AzureChatCompletion()\n",
    "\n",
    "print(\"🔗 Azure OpenAI service configured\")"
   ]
  },
  {
   "cell_type": "code",
   "execution_count": 27,
   "id": "7cc9c5b4",
   "metadata": {},
   "outputs": [
    {
     "name": "stdout",
     "output_type": "stream",
     "text": [
      "🔗 Creating SK client and agent wrappers...\n",
      "🎯 Azure AI agents wrapped as SK plugins\n",
      "\n",
      "🧪 Testing SK coordinator with Azure AI agent plugins...\n",
      "👤 User: Get me Microsoft's stock price and Seattle's weather\n",
      "🤖 SK Coordinator: Here’s the latest information you asked for:\n",
      "\n",
      "• Microsoft (MSFT) stock price: $350  \n",
      "• Seattle weather: 60 °F and cloudy\n",
      "🤖 SK Coordinator: Here’s the latest information you asked for:\n",
      "\n",
      "• Microsoft (MSFT) stock price: $350  \n",
      "• Seattle weather: 60 °F and cloudy\n"
     ]
    },
    {
     "name": "stderr",
     "output_type": "stream",
     "text": [
      "ERROR:root:Error while closing connector: ClientConnectionError('Connection lost: SSL shutdown timed out')\n"
     ]
    },
    {
     "name": "stdout",
     "output_type": "stream",
     "text": [
      "\n",
      "✅ Semantic Kernel coordination with Azure AI agents complete!\n"
     ]
    }
   ],
   "source": [
    "# Create AzureAIAgent wrappers and SK coordinator\n",
    "async def create_sk_coordinator():\n",
    "    endpoint = os.environ[\"PROJECT_ENDPOINT\"]\n",
    "\n",
    "    async with (\n",
    "        AsyncDefaultAzureCredential() as creds,\n",
    "        AzureAIAgent.create_client(credential=creds, endpoint=endpoint) as sk_client,\n",
    "    ):\n",
    "        print(\"🔗 Creating SK client and agent wrappers...\")\n",
    "        \n",
    "        # Wrap existing Azure AI agents as AzureAIAgents\n",
    "        stock_sk_agent = AzureAIAgent(\n",
    "            client=sk_client,\n",
    "            definition=stock_agent  # Use the agent from Part 1\n",
    "        )\n",
    "        \n",
    "        weather_sk_agent = AzureAIAgent(\n",
    "            client=sk_client,\n",
    "            definition=weather_agent  # Use the agent from Part 1\n",
    "        )\n",
    "        \n",
    "        print(\"🎯 Azure AI agents wrapped as SK plugins\")\n",
    "        \n",
    "        # Create kernel and add plugins\n",
    "        kernel = Kernel()\n",
    "        kernel.add_plugin(stock_sk_agent, \"stock\")\n",
    "        kernel.add_plugin(weather_sk_agent, \"weather\")\n",
    "        \n",
    "        # Create SK coordinator agent with plugins\n",
    "        coordinator_sk = ChatCompletionAgent(\n",
    "            name=\"SKCoordinator\",\n",
    "            instructions=\"You coordinate information using available functions. Call stock functions for stock data and weather functions for weather data.\",\n",
    "            service=service,\n",
    "            kernel=kernel\n",
    "        )\n",
    "        \n",
    "        # Test the coordination\n",
    "        print(\"\\n🧪 Testing SK coordinator with Azure AI agent plugins...\")\n",
    "        \n",
    "        user_input = \"Get me Microsoft's stock price and Seattle's weather\"\n",
    "        print(f\"👤 User: {user_input}\")\n",
    "        \n",
    "        async for response in coordinator_sk.invoke(user_input):\n",
    "            print(f\"🤖 SK Coordinator: {response.content}\")\n",
    "            final_response = response.content\n",
    "        \n",
    "        return final_response\n",
    "\n",
    "# Run the SK coordination\n",
    "result = await create_sk_coordinator()\n",
    "print(\"\\n✅ Semantic Kernel coordination with Azure AI agents complete!\")"
   ]
  },
  {
   "cell_type": "code",
   "execution_count": null,
   "id": "3cfe9919",
   "metadata": {},
   "outputs": [],
   "source": [
    "# Final cleanup - delete the remaining Azure AI agents\n",
    "agents_client.delete_agent(stock_agent.id)\n",
    "agents_client.delete_agent(weather_agent.id)\n",
    "\n",
    "print(\"🧹 All Azure AI agents cleaned up\")"
   ]
  },
  {
   "cell_type": "markdown",
   "id": "d06c3f9f",
   "metadata": {},
   "source": [
    "---\n",
    "\n",
    "## 🔄 Comparison: Connected Agents vs AzureAI Plugins\n",
    "\n",
    "| Aspect | Foundry SDK (Connected) | Semantic Kernel (AzureAI Plugins) |\n",
    "|--------|-------------------------|-----------------------------------|\n",
    "| **Connection** | Agent calls other agents as tools | Azure AI agents wrapped as SK plugins |\n",
    "| **Flow** | Tool-based invocation | Plugin function calls |\n",
    "| **Use Case** | Task delegation | Hybrid SK + Azure AI coordination |\n",
    "| **Complexity** | Simple, direct calls | SK orchestration with Azure AI power |\n",
    "| **Context** | Limited to tool parameters | SK context + Azure AI capabilities |\n",
    "\n",
    "### When to Use Each:\n",
    "\n",
    "**🔗 Connected Agents (Foundry SDK):**\n",
    "- Pure Azure AI agent coordination\n",
    "- Simple task delegation\n",
    "- Real-time tool usage\n",
    "\n",
    "**🔌 AzureAI Plugins (Semantic Kernel):**\n",
    "- Hybrid SK + Azure AI workflows\n",
    "- Rich SK orchestration features\n",
    "- Leverage existing Azure AI agents in SK"
   ]
  },
  {
   "cell_type": "markdown",
   "id": "63d01c54",
   "metadata": {},
   "source": [
    "---\n",
    "\n",
    "## 🎯 Key Takeaways\n",
    "\n",
    "✅ **Connected Agents (Foundry SDK):**\n",
    "- Use `ConnectedAgentTool` for agent-to-agent communication\n",
    "- Perfect for specialized function delegation\n",
    "- Built-in tool management\n",
    "\n",
    "✅ **AzureAI Plugins (Semantic Kernel):**\n",
    "- Use `AzureAIAgent` to wrap existing Azure AI agents\n",
    "- Leverage SK's rich plugin system\n",
    "- Combine Azure AI power with SK orchestration\n",
    "\n",
    "✅ **Both Approaches:**\n",
    "- Enable agent specialization\n",
    "- Improve task decomposition\n",
    "- Scale complex AI solutions\n",
    "- Reuse existing Azure AI agents\n",
    "\n",
    "**🚀 Next Steps:**\n",
    "- Experiment with different plugin patterns\n",
    "- Try combining multiple Azure AI agents in SK\n",
    "- Explore hybrid workflows with both SDKs\n",
    "\n",
    "**Happy agent orchestrating!** 🎉"
   ]
  }
 ],
 "metadata": {
  "kernelspec": {
   "display_name": ".venv",
   "language": "python",
   "name": "python3"
  },
  "language_info": {
   "codemirror_mode": {
    "name": "ipython",
    "version": 3
   },
   "file_extension": ".py",
   "mimetype": "text/x-python",
   "name": "python",
   "nbconvert_exporter": "python",
   "pygments_lexer": "ipython3",
   "version": "3.13.3"
  }
 },
 "nbformat": 4,
 "nbformat_minor": 5
}
