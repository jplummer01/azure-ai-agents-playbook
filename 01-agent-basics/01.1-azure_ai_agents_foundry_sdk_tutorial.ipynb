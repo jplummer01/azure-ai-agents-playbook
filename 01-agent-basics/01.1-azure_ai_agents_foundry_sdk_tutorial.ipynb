{
 "cells": [
  {
   "cell_type": "markdown",
   "id": "d9a5733d",
   "metadata": {},
   "source": [
    "# Azure AI Agents - Complete Beginner's Tutorial\n",
    "\n",
    "🎯 **Welcome to your first Azure AI Agents experience!**\n",
    "\n",
    "This tutorial will guide you through everything you need to know to get started with Azure AI Agents. We'll cover:\n",
    "\n",
    "1. **What are Azure AI Agents?** - Understanding the basics\n",
    "2. **Setup and Prerequisites** - Getting your environment ready\n",
    "3. **Your First Agent** - Creating and managing agents\n",
    "4. **Conversations with Threads** - Understanding how conversations work\n",
    "5. **Advanced Operations** - Streamlined workflows\n",
    "\n",
    "**No prior experience required!** We'll start from the very beginning and build up your knowledge step by step.\n",
    "\n",
    "---"
   ]
  },
  {
   "cell_type": "markdown",
   "id": "aa5e2276",
   "metadata": {},
   "source": [
    "## 🤖 What are Azure AI Agents?\n",
    "\n",
    "Think of Azure AI Agents as your **AI-powered assistants** that can:\n",
    "- Have conversations with users\n",
    "- Remember what was discussed (through \"threads\")\n",
    "- Perform tasks and use tools\n",
    "- Maintain context across multiple interactions\n",
    "\n",
    "### Key Concepts (Don't worry, we'll see these in action!):\n",
    "\n",
    "- **Agent**: Your AI assistant with specific instructions and capabilities\n",
    "- **Thread**: A conversation session (like a chat conversation)\n",
    "- **Message**: Individual messages within a conversation\n",
    "- **Run**: The process of the agent thinking and responding\n",
    "\n",
    "Let's dive in! 🚀"
   ]
  },
  {
   "cell_type": "markdown",
   "id": "f5af0a10",
   "metadata": {},
   "source": [
    "## 📋 Prerequisites and Setup\n",
    "\n",
    "Before we start coding, you'll need:\n",
    "\n",
    "### 1. Azure AI Foundry Project\n",
    "- An Azure subscription\n",
    "- An Azure AI Foundry project with a deployed model\n",
    "\n",
    "### 2. Environment Variables\n",
    "You'll need to set these environment variables:\n",
    "- `PROJECT_ENDPOINT`: Your Azure AI Project endpoint\n",
    "- `MODEL_DEPLOYMENT_NAME`: The name of your deployed AI model\n",
    "\n",
    "### 3. Python Packages\n",
    "We'll install the required packages in the next cell.\n",
    "\n",
    "**Don't worry if this seems overwhelming - we'll guide you through each step!**"
   ]
  },
  {
   "cell_type": "code",
   "execution_count": 1,
   "id": "01736799",
   "metadata": {},
   "outputs": [
    {
     "name": "stdout",
     "output_type": "stream",
     "text": [
      "✅ Packages installed successfully!\n",
      "Now we're ready to work with Azure AI Agents!\n"
     ]
    }
   ],
   "source": [
    "# First, let's install the required packages\n",
    "# This might take a minute or two\n",
    "\n",
    "# !pip install azure-ai-agents azure-identity\n",
    "\n",
    "print(\"✅ Packages installed successfully!\")\n",
    "print(\"Now we're ready to work with Azure AI Agents!\")"
   ]
  },
  {
   "cell_type": "code",
   "execution_count": 2,
   "id": "ca1d6823",
   "metadata": {},
   "outputs": [
    {
     "name": "stdout",
     "output_type": "stream",
     "text": [
      "📦 All packages imported successfully!\n",
      "\n",
      "🔧 Now let's check your environment variables...\n",
      "✅ PROJECT_ENDPOINT is set\n",
      "✅ MODEL_DEPLOYMENT_NAME is set\n",
      "\n",
      "🎉 All environment variables are properly configured!\n"
     ]
    }
   ],
   "source": [
    "# Let's import everything we need and set up our environment\n",
    "import os\n",
    "import time\n",
    "from azure.ai.agents import AgentsClient\n",
    "from azure.ai.agents.models import (\n",
    "    AgentThreadCreationOptions, \n",
    "    ThreadMessageOptions, \n",
    "    ListSortOrder\n",
    ")\n",
    "from azure.identity import DefaultAzureCredential\n",
    "\n",
    "print(\"📦 All packages imported successfully!\")\n",
    "print(\"\\n🔧 Now let's check your environment variables...\")\n",
    "\n",
    "# Check if environment variables are set\n",
    "required_vars = ['PROJECT_ENDPOINT', 'MODEL_DEPLOYMENT_NAME']\n",
    "missing_vars = []\n",
    "\n",
    "for var in required_vars:\n",
    "    if var not in os.environ:\n",
    "        missing_vars.append(var)\n",
    "    else:\n",
    "        print(f\"✅ {var} is set\")\n",
    "\n",
    "if missing_vars:\n",
    "    print(f\"\\n❌ Missing environment variables: {missing_vars}\")\n",
    "    print(\"\\n🔧 Please set them using:\")\n",
    "    for var in missing_vars:\n",
    "        print(f\"   os.environ['{var}'] = 'your_value_here'\")\n",
    "else:\n",
    "    print(\"\\n🎉 All environment variables are properly configured!\")"
   ]
  },
  {
   "cell_type": "code",
   "execution_count": 3,
   "id": "e851f221",
   "metadata": {},
   "outputs": [
    {
     "name": "stdout",
     "output_type": "stream",
     "text": [
      "✅ Environment variables are now set!\n",
      "📍 Endpoint: https://selhousseini-agentic-resource.services.ai....\n",
      "🤖 Model: gpt-4.1\n"
     ]
    }
   ],
   "source": [
    "# If you need to set environment variables manually, uncomment and fill in these lines:\n",
    "\n",
    "# os.environ['PROJECT_ENDPOINT'] = 'https://your-project.cognitiveservices.azure.com/'\n",
    "# os.environ['MODEL_DEPLOYMENT_NAME'] = 'your-model-deployment-name'\n",
    "\n",
    "# After setting them, run this cell to verify:\n",
    "if 'PROJECT_ENDPOINT' in os.environ and 'MODEL_DEPLOYMENT_NAME' in os.environ:\n",
    "    print(\"✅ Environment variables are now set!\")\n",
    "    print(f\"📍 Endpoint: {os.environ['PROJECT_ENDPOINT'][:50]}...\")\n",
    "    print(f\"🤖 Model: {os.environ['MODEL_DEPLOYMENT_NAME']}\")\n",
    "else:\n",
    "    print(\"⚠️  Please set your environment variables in the cell above first.\")"
   ]
  },
  {
   "cell_type": "markdown",
   "id": "e3cd1098",
   "metadata": {},
   "source": [
    "## 🔐 Step 1: Create Your Azure AI Agents Client\n",
    "\n",
    "The **AgentsClient** is your main tool for interacting with Azure AI Agents. Think of it as your \"remote control\" for managing agents, conversations, and messages.\n",
    "\n",
    "**What's happening here:**\n",
    "- We connect to your Azure AI project using your endpoint\n",
    "- We use Azure's default authentication (handles the security for us)\n",
    "- This client will be used for all our agent operations"
   ]
  },
  {
   "cell_type": "code",
   "execution_count": 11,
   "id": "fa81e040",
   "metadata": {},
   "outputs": [
    {
     "name": "stdout",
     "output_type": "stream",
     "text": [
      "🎉 Successfully connected to Azure AI Agents!\n",
      "Your client is ready to create and manage AI agents.\n"
     ]
    }
   ],
   "source": [
    "# Create our Azure AI Agents client\n",
    "# This is our main interface to the Azure AI Agents service\n",
    "\n",
    "def create_agents_client():\n",
    "    try:\n",
    "        agents_client = AgentsClient(\n",
    "            endpoint=os.environ[\"PROJECT_ENDPOINT\"],\n",
    "            credential=DefaultAzureCredential()\n",
    "        )\n",
    "        print(\"🎉 Successfully connected to Azure AI Agents!\")\n",
    "        print(\"Your client is ready to create and manage AI agents.\")\n",
    "        return agents_client\n",
    "        \n",
    "    except Exception as e:\n",
    "        print(f\"❌ Error creating client: {e}\")\n",
    "        print(\"Please check your environment variables and Azure credentials.\")\n",
    "        return None\n",
    "    \n",
    "# Create the client\n",
    "agents_client = create_agents_client()    "
   ]
  },
  {
   "cell_type": "markdown",
   "id": "d668db1c",
   "metadata": {},
   "source": [
    "## 🤖 Step 2: Create Your First AI Agent\n",
    "\n",
    "Now for the exciting part - creating your first AI agent! \n",
    "\n",
    "**An agent is like hiring a specialized assistant.** You give it:\n",
    "- **Instructions**: What role should it play? (e.g., \"You are a helpful coding assistant\")\n",
    "- **Model**: Which AI model should power it?\n",
    "- **Name**: A friendly name to identify it\n",
    "\n",
    "Let's create a joke-telling agent to start with something fun! 😄"
   ]
  },
  {
   "cell_type": "code",
   "execution_count": null,
   "id": "98ea39ea",
   "metadata": {},
   "outputs": [
    {
     "name": "stdout",
     "output_type": "stream",
     "text": [
      "🎉 Agent created successfully!\n",
      "🆔 Agent ID: asst_QyLX90ecm3oT27B3FarSu7lW\n",
      "📝 Agent Name: joke-master-3000\n",
      "🧠 Model: gpt-4.1\n"
     ]
    }
   ],
   "source": [
    "# Create the agent\n",
    "agent = agents_client.create_agent(\n",
    "    model=os.environ[\"MODEL_DEPLOYMENT_NAME\"],  # The AI model to use\n",
    "    name=\"joke-master-3000\",                     # A friendly name\n",
    "    instructions=\"You are a helpful and funny assistant that loves telling programming jokes and general jokes. Keep responses light and entertaining!\"\n",
    ")\n",
    "\n",
    "print(f\"🎉 Agent created successfully!\")\n",
    "print(f\"🆔 Agent ID: {agent.id}\")\n",
    "print(f\"📝 Agent Name: {agent.name}\")\n",
    "print(f\"🧠 Model: {agent.model}\")\n",
    "\n",
    "# Store the agent ID for later use\n",
    "agent_id = agent.id"
   ]
  },
  {
   "cell_type": "markdown",
   "id": "79c6280c",
   "metadata": {},
   "source": [
    "## 💬 Step 3: Understanding Threads (Conversations)\n",
    "\n",
    "Before we can chat with our agent, we need to understand **threads**.\n",
    "\n",
    "**A thread is like a conversation session:**\n",
    "- It keeps track of all messages in a conversation\n",
    "- The agent remembers what was said earlier\n",
    "- You can have multiple threads (multiple conversations) with the same agent\n",
    "- Each thread is independent\n",
    "\n",
    "**Think of it like this:**\n",
    "- Thread 1: A conversation about Python programming\n",
    "- Thread 2: A conversation about cooking recipes\n",
    "- The agent remembers the context within each thread separately!\n",
    "\n",
    "Let's create our first thread:"
   ]
  },
  {
   "cell_type": "code",
   "execution_count": null,
   "id": "0da7f392",
   "metadata": {},
   "outputs": [
    {
     "name": "stdout",
     "output_type": "stream",
     "text": [
      "🎉 Successfully connected to Azure AI Agents!\n",
      "Your client is ready to create and manage AI agents.\n",
      "💬 New conversation thread created!\n",
      "🆔 Thread ID: thread_0IQN4J55gYsO5wnrbpzcr6vl\n",
      "\n",
      "📚 This thread will remember our entire conversation with the agent.\n"
     ]
    }
   ],
   "source": [
    "# Create a new conversation thread\n",
    "thread = agents_client.threads.create()\n",
    "\n",
    "print(f\"💬 New conversation thread created!\")\n",
    "print(f\"🆔 Thread ID: {thread.id}\")\n",
    "print(f\"\\n📚 This thread will remember our entire conversation with the agent.\")\n",
    "\n",
    "# Store the thread ID for later use\n",
    "thread_id = thread.id"
   ]
  },
  {
   "cell_type": "markdown",
   "id": "2b7dc851",
   "metadata": {},
   "source": [
    "## ✉️ Step 4: Sending Your First Message\n",
    "\n",
    "Now let's add a message to our thread! \n",
    "\n",
    "**Messages have two key parts:**\n",
    "- **Role**: Who sent it? (`\"user\"` for you, `\"assistant\"` for the agent)\n",
    "- **Content**: The actual message text\n",
    "\n",
    "We'll send a message asking for a joke. The message gets added to our thread, but the agent hasn't responded yet - that comes in the next step!"
   ]
  },
  {
   "cell_type": "code",
   "execution_count": null,
   "id": "53053518",
   "metadata": {},
   "outputs": [
    {
     "name": "stdout",
     "output_type": "stream",
     "text": [
      "🎉 Successfully connected to Azure AI Agents!\n",
      "Your client is ready to create and manage AI agents.\n",
      "✉️ Message sent successfully!\n",
      "🆔 Message ID: msg_zfRSPPQj7QopDwQaWkVUh14e\n",
      "👤 Role: MessageRole.USER\n",
      "💭 Content: Hello! Can you tell me a funny programming joke?\n",
      "\n",
      "📝 The message is now in our thread, waiting for the agent to respond!\n"
     ]
    }
   ],
   "source": [
    "# Add our first message to the thread\n",
    "message = agents_client.messages.create(\n",
    "    thread_id=thread.id,\n",
    "    role=\"user\",\n",
    "    content=\"Hello! Can you tell me a funny programming joke?\"\n",
    ")\n",
    "\n",
    "print(f\"✉️ Message sent successfully!\")\n",
    "print(f\"🆔 Message ID: {message.id}\")\n",
    "print(f\"👤 Role: {message.role}\")\n",
    "print(f\"💭 Content: {message.content[0].text.value}\")\n",
    "print(f\"\\n📝 The message is now in our thread, waiting for the agent to respond!\")"
   ]
  },
  {
   "cell_type": "markdown",
   "id": "852395e7",
   "metadata": {},
   "source": [
    "## 🏃‍♂️ Step 5: Creating a Run (Making the Agent Think!)\n",
    "\n",
    "Now comes the magic! We need to create a **\"run\"** to make our agent process the conversation and respond.\n",
    "\n",
    "**What's a run?**\n",
    "- It's like pressing \"send\" in a chat app\n",
    "- The agent reads all messages in the thread\n",
    "- It thinks about what to say (this can take a few seconds)\n",
    "- It generates a response and adds it to the thread\n",
    "\n",
    "**Run statuses you might see:**\n",
    "- `\"queued\"`: Waiting in line to be processed\n",
    "- `\"in_progress\"`: The agent is thinking\n",
    "- `\"completed\"`: Done! The agent has responded\n",
    "- `\"failed\"`: Something went wrong\n",
    "\n",
    "Let's create a run and watch it work:"
   ]
  },
  {
   "cell_type": "code",
   "execution_count": null,
   "id": "f6eb1cf9",
   "metadata": {},
   "outputs": [
    {
     "name": "stdout",
     "output_type": "stream",
     "text": [
      "🎉 Successfully connected to Azure AI Agents!\n",
      "Your client is ready to create and manage AI agents.\n",
      "🏃‍♂️ Run created! Agent is starting to think...\n",
      "🆔 Run ID: run_JTpS5ycLrkvgaaY3ixA3seO3\n",
      "📊 Initial status: RunStatus.QUEUED\n",
      "\n",
      "⏳ Waiting for the agent to respond...\n",
      "   Status: RunStatus.IN_PROGRESS\n",
      "   Status: RunStatus.COMPLETED\n",
      "\n",
      "🎉 Run completed with status: RunStatus.COMPLETED\n",
      "✅ Success! The agent has responded.\n"
     ]
    }
   ],
   "source": [
    "# Create a run to make the agent process our message and respond\n",
    "run = agents_client.runs.create(\n",
    "    thread_id=thread.id,\n",
    "    agent_id=agent.id\n",
    ")\n",
    "\n",
    "print(f\"🏃‍♂️ Run created! Agent is starting to think...\")\n",
    "print(f\"🆔 Run ID: {run.id}\")\n",
    "print(f\"📊 Initial status: {run.status}\")\n",
    "\n",
    "# Poll the run status until it's complete\n",
    "print(f\"\\n⏳ Waiting for the agent to respond...\")\n",
    "\n",
    "while run.status in [\"queued\", \"in_progress\", \"requires_action\"]:\n",
    "    time.sleep(1)  # Wait 1 second before checking again\n",
    "    run = agents_client.runs.get(thread_id=thread.id, run_id=run.id)\n",
    "    print(f\"   Status: {run.status}\")\n",
    "\n",
    "print(f\"\\n🎉 Run completed with status: {run.status}\")\n",
    "\n",
    "if run.status == \"failed\":\n",
    "    print(f\"❌ Error: {run.last_error}\")\n",
    "else:\n",
    "    print(f\"✅ Success! The agent has responded.\")"
   ]
  },
  {
   "cell_type": "markdown",
   "id": "95a931fa",
   "metadata": {},
   "source": [
    "## 📖 Step 6: Reading the Conversation\n",
    "\n",
    "Now let's see the complete conversation! We'll retrieve all messages from our thread and display them in order.\n",
    "\n",
    "**What we'll see:**\n",
    "1. Our original message (role: \"user\")\n",
    "2. The agent's response (role: \"assistant\")\n",
    "\n",
    "Let's check out what our joke-telling agent came up with! 🤞"
   ]
  },
  {
   "cell_type": "code",
   "execution_count": null,
   "id": "d1724960",
   "metadata": {},
   "outputs": [
    {
     "name": "stdout",
     "output_type": "stream",
     "text": [
      "🎉 Successfully connected to Azure AI Agents!\n",
      "Your client is ready to create and manage AI agents.\n",
      "💬 Complete Conversation:\n",
      "══════════════════════════════════════════════════\n",
      "\n",
      "1. 👤 USER:\n",
      "   Hello! Can you tell me a funny programming joke?\n",
      "\n",
      "2. 🤖 ASSISTANT:\n",
      "   Absolutely! Here you go:\n",
      "\n",
      "Why do programmers prefer dark mode?\n",
      "\n",
      "Because light attracts bugs! 🐛😄\n",
      "\n",
      "══════════════════════════════════════════════════\n",
      "🎉 Conversation complete! Your first Azure AI Agent interaction was successful!\n"
     ]
    }
   ],
   "source": [
    "# Get all messages from the thread, in chronological order\n",
    "messages = agents_client.messages.list(\n",
    "    thread_id=thread.id, \n",
    "    order=ListSortOrder.ASCENDING  # Oldest first\n",
    ")\n",
    "\n",
    "print(f\"💬 Complete Conversation:\")\n",
    "print(f\"═\" * 50)\n",
    "\n",
    "for i, msg in enumerate(messages, 1):\n",
    "    if msg.text_messages:  # Check if the message has text content\n",
    "        last_text = msg.text_messages[-1]  # Get the text content\n",
    "        role_emoji = \"👤\" if msg.role == \"user\" else \"🤖\"\n",
    "        print(f\"\\n{i}. {role_emoji} {msg.role.upper()}:\")\n",
    "        print(f\"   {last_text.text.value}\")\n",
    "\n",
    "print(f\"\\n\" + \"═\" * 50)\n",
    "print(f\"🎉 Conversation complete! Your first Azure AI Agent interaction was successful!\")"
   ]
  },
  {
   "cell_type": "code",
   "execution_count": null,
   "id": "287df11a",
   "metadata": {},
   "outputs": [
    {
     "name": "stdout",
     "output_type": "stream",
     "text": [
      "🎉 Successfully connected to Azure AI Agents!\n",
      "Your client is ready to create and manage AI agents.\n",
      "\n",
      "🧹 Cleanup: Agent 'joke-master-3000' has been deleted.\n",
      "💭 The thread and messages still exist and could be used with other agents.\n"
     ]
    }
   ],
   "source": [
    "# Clean up: Delete the agent when we're done\n",
    "# (In real applications, you might want to keep agents around for reuse)\n",
    "agents_client.delete_agent(agent.id)\n",
    "print(f\"\\n🧹 Cleanup: Agent '{agent.name}' has been deleted.\")\n",
    "print(f\"💭 The thread and messages still exist and could be used with other agents.\")"
   ]
  },
  {
   "cell_type": "markdown",
   "id": "69c88c3e",
   "metadata": {},
   "source": [
    "---\n",
    "\n",
    "## 🚀 Level Up: Streamlined Approach\n",
    "\n",
    "Now that you understand the fundamentals, let's learn about **shortcuts**!\n",
    "\n",
    "Azure AI Agents provides convenience methods that combine multiple steps:\n",
    "\n",
    "### Method 1: `create_thread_and_run()`\n",
    "- Creates a thread AND starts a run in one call\n",
    "- Still requires polling for completion\n",
    "- Good when you want to start a new conversation quickly\n",
    "\n",
    "### Method 2: `create_thread_and_process_run()`\n",
    "- Creates thread, starts run, AND waits for completion\n",
    "- Returns the final result immediately\n",
    "- Perfect for simple request-response scenarios\n",
    "\n",
    "Let's try both approaches:"
   ]
  },
  {
   "cell_type": "code",
   "execution_count": 17,
   "id": "6a1fec24",
   "metadata": {},
   "outputs": [
    {
     "name": "stdout",
     "output_type": "stream",
     "text": [
      "🎉 Successfully connected to Azure AI Agents!\n",
      "Your client is ready to create and manage AI agents.\n",
      "🤖 Created agent: quick-helper\n",
      "⚡ Thread created and run started in one call!\n",
      "🆔 Thread ID: thread_hxXDolTb5HqowIcfWCsu6mJ9\n",
      "🆔 Run ID: run_JOknf08tdzDnVsk7EhWNyr8A\n",
      "\n",
      "⏳ Polling for completion...\n",
      "   Status: RunStatus.IN_PROGRESS\n",
      "   Status: RunStatus.COMPLETED\n",
      "\n",
      "✅ Run completed!\n",
      "\n",
      "💬 Quick Conversation:\n",
      "────────────────────────────────────────\n",
      "\n",
      "👤 USER:\n",
      "What's the difference between a list and a tuple in Python?\n",
      "\n",
      "🤖 ASSISTANT:\n",
      "The main differences between a **list** and a **tuple** in Python are:\n",
      "\n",
      "1. **Mutability**:\n",
      "   - **List**: Mutable (can be changed after creation: add, remove, or modify elements).\n",
      "   - **Tuple**: Immutable (cannot be changed after creation).\n",
      "\n",
      "2. **Syntax**:\n",
      "   - **List**: Defined with square brackets `[ ]`, e.g., `[1, 2, 3]`\n",
      "   - **Tuple**: Defined with parentheses `( )`, e.g., `(1, 2, 3)`\n",
      "\n",
      "3. **Usage**:\n",
      "   - **List**: Used for collections of items that may need to change.\n",
      "   - **Tuple**: Used for fixed collections or when data shouldn't change (often for function returns or as dictionary keys).\n",
      "\n",
      "4. **Performance**:\n",
      "   - **Tuple**: Slightly faster than lists for iteration due to immutability.\n",
      "\n",
      "**Summary:**  \n",
      "Use a **list** for mutable sequences.  \n",
      "Use a **tuple** for immutable sequences.\n",
      "\n",
      "🧹 Agent deleted.\n"
     ]
    }
   ],
   "source": [
    "# Approach 1: create_thread_and_run() - Create + Run, but we still poll\n",
    "\n",
    "# Create the client\n",
    "agents_client = create_agents_client()   \n",
    "\n",
    "\n",
    "with agents_client:\n",
    "    # Create a new agent for this example\n",
    "    agent = agents_client.create_agent(\n",
    "        model=os.environ[\"MODEL_DEPLOYMENT_NAME\"],\n",
    "        name=\"quick-helper\",\n",
    "        instructions=\"You are a helpful assistant that provides quick, concise answers.\"\n",
    "    )\n",
    "    \n",
    "    print(f\"🤖 Created agent: {agent.name}\")\n",
    "    \n",
    "    # Create thread and run in one call!\n",
    "    initial_message = ThreadMessageOptions(\n",
    "        role=\"user\", \n",
    "        content=\"What's the difference between a list and a tuple in Python?\"\n",
    "    )\n",
    "    \n",
    "    run = agents_client.create_thread_and_run(\n",
    "        agent_id=agent.id,\n",
    "        thread=AgentThreadCreationOptions(messages=[initial_message])\n",
    "    )\n",
    "    \n",
    "    print(f\"⚡ Thread created and run started in one call!\")\n",
    "    print(f\"🆔 Thread ID: {run.thread_id}\")\n",
    "    print(f\"🆔 Run ID: {run.id}\")\n",
    "    \n",
    "    # We still need to poll for completion\n",
    "    print(f\"\\n⏳ Polling for completion...\")\n",
    "    while run.status in [\"queued\", \"in_progress\", \"requires_action\"]:\n",
    "        time.sleep(1)\n",
    "        run = agents_client.runs.get(thread_id=run.thread_id, run_id=run.id)\n",
    "        print(f\"   Status: {run.status}\")\n",
    "    \n",
    "    print(f\"\\n✅ Run completed!\")\n",
    "    \n",
    "    # Get and display the conversation\n",
    "    messages = agents_client.messages.list(\n",
    "        thread_id=run.thread_id, \n",
    "        order=ListSortOrder.ASCENDING\n",
    "    )\n",
    "    \n",
    "    print(f\"\\n💬 Quick Conversation:\")\n",
    "    print(f\"─\" * 40)\n",
    "    for msg in messages:\n",
    "        if msg.text_messages:\n",
    "            last_text = msg.text_messages[-1]\n",
    "            role_emoji = \"👤\" if msg.role == \"user\" else \"🤖\"\n",
    "            print(f\"\\n{role_emoji} {msg.role.upper()}:\")\n",
    "            print(f\"{last_text.text.value}\")\n",
    "    \n",
    "    # Cleanup\n",
    "    agents_client.delete_agent(agent.id)\n",
    "    print(f\"\\n🧹 Agent deleted.\")"
   ]
  },
  {
   "cell_type": "code",
   "execution_count": null,
   "id": "fcc12ed4",
   "metadata": {},
   "outputs": [],
   "source": [
    "# Approach 2: create_thread_and_process_run() - The ultimate shortcut!\n",
    "# This does EVERYTHING: creates thread, runs, polls, and returns final result\n",
    "\n",
    "# Create the client\n",
    "agents_client = create_agents_client()   \n",
    "\n",
    "with agents_client:\n",
    "    # Create another agent\n",
    "    agent = agents_client.create_agent(\n",
    "        model=os.environ[\"MODEL_DEPLOYMENT_NAME\"],\n",
    "        name=\"instant-responder\",\n",
    "        instructions=\"You are a witty assistant that explains complex topics in simple terms with a touch of humor.\"\n",
    "    )\n",
    "    \n",
    "    print(f\"🤖 Created agent: {agent.name}\")\n",
    "    \n",
    "    # This ONE call does everything!\n",
    "    run = agents_client.create_thread_and_process_run(\n",
    "        agent_id=agent.id,\n",
    "        thread=AgentThreadCreationOptions(\n",
    "            messages=[ThreadMessageOptions(\n",
    "                role=\"user\", \n",
    "                content=\"Explain what an API is, but pretend I'm 5 years old.\"\n",
    "            )]\n",
    "        )\n",
    "    )\n",
    "    \n",
    "    print(f\"🚀 Everything completed in one call!\")\n",
    "    print(f\"📊 Final status: {run.status}\")\n",
    "    \n",
    "    if run.status == \"failed\":\n",
    "        print(f\"❌ Error: {run.last_error}\")\n",
    "    else:\n",
    "        # Get and display the conversation\n",
    "        messages = agents_client.messages.list(\n",
    "            thread_id=run.thread_id, \n",
    "            order=ListSortOrder.ASCENDING\n",
    "        )\n",
    "        \n",
    "        print(f\"\\n💬 Instant Conversation:\")\n",
    "        print(f\"─\" * 40)\n",
    "        for msg in messages:\n",
    "            if msg.text_messages:\n",
    "                last_text = msg.text_messages[-1]\n",
    "                role_emoji = \"👤\" if msg.role == \"user\" else \"🤖\"\n",
    "                print(f\"\\n{role_emoji} {msg.role.upper()}:\")\n",
    "                print(f\"{last_text.text.value}\")\n",
    "    \n",
    "    # Cleanup\n",
    "    agents_client.delete_agent(agent.id)\n",
    "    print(f\"\\n🧹 Agent deleted.\")\n",
    "    print(f\"\\n🎯 This approach is perfect for simple question-answer scenarios!\")"
   ]
  },
  {
   "cell_type": "markdown",
   "id": "5bcb3c28",
   "metadata": {},
   "source": [
    "---\n",
    "\n",
    "## 🎓 Congratulations! You're Now an Azure AI Agents Developer!\n",
    "\n",
    "### What You've Learned:\n",
    "\n",
    "✅ **Core Concepts:**\n",
    "- What Azure AI Agents are and how they work\n",
    "- The relationship between agents, threads, messages, and runs\n",
    "\n",
    "✅ **Practical Skills:**\n",
    "- Setting up the Azure AI Agents client\n",
    "- Creating and configuring AI agents\n",
    "- Managing conversation threads\n",
    "- Sending messages and processing responses\n",
    "- Monitoring run status and handling results\n",
    "\n",
    "✅ **Development Approaches:**\n",
    "- **Step-by-step**: Full control over each operation\n",
    "- **Streamlined**: Convenience methods for common patterns\n",
    "- **Best practices**: Proper resource cleanup and error handling\n",
    "\n",
    "### 🚀 Next Steps:\n",
    "\n",
    "Now that you understand the basics, you can explore:\n",
    "\n",
    "1. **Function Calling**: Let your agents use tools and APIs\n",
    "2. **File Attachments**: Send images and documents to your agents\n",
    "3. **Streaming Responses**: Get real-time responses as they're generated\n",
    "4. **Advanced Threading**: Manage multiple ongoing conversations\n",
    "5. **Production Deployment**: Scale your agents for real applications\n",
    "\n",
    "### 💡 Key Takeaways:\n",
    "\n",
    "- **Agents are reusable**: Create once, use for multiple conversations\n",
    "- **Threads maintain context**: Each conversation remembers its history\n",
    "- **Runs process requests**: Always monitor run status for best results\n",
    "- **Cleanup matters**: Delete agents when you're done to manage costs\n",
    "\n",
    "**Happy coding with Azure AI Agents!** 🎉"
   ]
  },
  {
   "cell_type": "markdown",
   "id": "a26c7a7c",
   "metadata": {},
   "source": [
    "---\n",
    "\n",
    "## 🔧 Troubleshooting Common Issues\n",
    "\n",
    "### Authentication Problems\n",
    "**Error**: `DefaultAzureCredential failed to retrieve a token`\n",
    "**Solution**: \n",
    "- Make sure you're logged into Azure CLI: `az login`\n",
    "- Or set environment variables: `AZURE_CLIENT_ID`, `AZURE_CLIENT_SECRET`, `AZURE_TENANT_ID`\n",
    "\n",
    "### Environment Variables\n",
    "**Error**: `KeyError: 'PROJECT_ENDPOINT'`\n",
    "**Solution**: Double-check your environment variables are set correctly\n",
    "\n",
    "### Run Failures\n",
    "**Error**: Run status shows `\"failed\"`\n",
    "**Solution**: Check `run.last_error` for details. Common causes:\n",
    "- Model deployment issues\n",
    "- Insufficient quotas\n",
    "- Network connectivity problems\n",
    "\n",
    "### Timeout Issues\n",
    "**Problem**: Runs taking too long\n",
    "**Solution**: \n",
    "- Add timeout logic to your polling loops\n",
    "- Check your model's performance and quotas\n",
    "- Consider using shorter prompts for testing\n",
    "\n",
    "**Need help?** Check the [Azure AI Agents documentation](https://docs.microsoft.com/azure/ai-services/) for more details!"
   ]
  }
 ],
 "metadata": {
  "kernelspec": {
   "display_name": ".venv",
   "language": "python",
   "name": "python3"
  },
  "language_info": {
   "codemirror_mode": {
    "name": "ipython",
    "version": 3
   },
   "file_extension": ".py",
   "mimetype": "text/x-python",
   "name": "python",
   "nbconvert_exporter": "python",
   "pygments_lexer": "ipython3",
   "version": "3.13.3"
  }
 },
 "nbformat": 4,
 "nbformat_minor": 5
}
